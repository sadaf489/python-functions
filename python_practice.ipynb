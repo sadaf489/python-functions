{
  "nbformat": 4,
  "nbformat_minor": 0,
  "metadata": {
    "colab": {
      "provenance": []
    },
    "kernelspec": {
      "name": "python3",
      "display_name": "Python 3"
    },
    "language_info": {
      "name": "python"
    }
  },
  "cells": [
    {
      "cell_type": "code",
      "execution_count": 1,
      "metadata": {
        "id": "fI_SswqZiJZj"
      },
      "outputs": [],
      "source": [
        "#function defination\n",
        "#without parameters return no result\n",
        "def sum ():\n",
        "  a=50\n",
        "  b=30\n",
        "  c=a+b\n",
        "  print(\"the sum of a and b is:\",c)\n",
        ""
      ]
    },
    {
      "cell_type": "code",
      "source": [
        "#function call\n",
        "sum()"
      ],
      "metadata": {
        "colab": {
          "base_uri": "https://localhost:8080/"
        },
        "id": "MjZzM--ti4pp",
        "outputId": "f79d564d-9d71-4cf2-d54b-8929ffc73480"
      },
      "execution_count": 2,
      "outputs": [
        {
          "output_type": "stream",
          "name": "stdout",
          "text": [
            "the sum of a and b is: 80\n"
          ]
        }
      ]
    },
    {
      "cell_type": "code",
      "source": [
        "#passing parameters\n",
        "def sum(a,b):\n",
        " c=a+b\n",
        "\n",
        " print(\"the sum of a and b is :\", c)\n",
        "sum(12,50)\n",
        "\n"
      ],
      "metadata": {
        "colab": {
          "base_uri": "https://localhost:8080/"
        },
        "id": "G9hXV6JnjFoX",
        "outputId": "439d1726-5ef9-4aa5-9e9b-5e420b22d10f"
      },
      "execution_count": 10,
      "outputs": [
        {
          "output_type": "stream",
          "name": "stdout",
          "text": [
            "the sum of a and b is : 62\n"
          ]
        }
      ]
    },
    {
      "cell_type": "code",
      "source": [
        "def even_odd(x):\n",
        " if x% 2==0:\n",
        "  print(x,\"is yes\")\n",
        " else:\n",
        "  print (x, \"is no\")\n",
        "\n",
        "\n",
        "\n"
      ],
      "metadata": {
        "id": "jLDB7JrAjEZg"
      },
      "execution_count": 16,
      "outputs": []
    },
    {
      "cell_type": "code",
      "source": [
        "even_odd(50)"
      ],
      "metadata": {
        "colab": {
          "base_uri": "https://localhost:8080/"
        },
        "id": "hRmUoHDunqIY",
        "outputId": "6c3b0f97-e937-43e4-ddc7-30c4aa721ec1"
      },
      "execution_count": 17,
      "outputs": [
        {
          "output_type": "stream",
          "name": "stdout",
          "text": [
            "50 is yes\n"
          ]
        }
      ]
    },
    {
      "cell_type": "code",
      "source": [
        "for x in range(30,40):\n",
        "  even_odd (x)"
      ],
      "metadata": {
        "colab": {
          "base_uri": "https://localhost:8080/"
        },
        "id": "3qQ1BWY3nvFQ",
        "outputId": "1ea28290-d1d4-4242-decd-6b57bbdc58ed"
      },
      "execution_count": 21,
      "outputs": [
        {
          "output_type": "stream",
          "name": "stdout",
          "text": [
            "30 is yes\n",
            "31 is no\n",
            "32 is yes\n",
            "33 is no\n",
            "34 is yes\n",
            "35 is no\n",
            "36 is yes\n",
            "37 is no\n",
            "38 is yes\n",
            "39 is no\n"
          ]
        }
      ]
    },
    {
      "cell_type": "code",
      "source": [
        "def even_odd(n):\n",
        "  if n%2==0:\n",
        "    return \"even\"\n",
        "  else:\n",
        "    return \"odd\"\n",
        "    even_odd(40)\n"
      ],
      "metadata": {
        "id": "djOPsP8Bo1Lo"
      },
      "execution_count": 29,
      "outputs": []
    },
    {
      "cell_type": "code",
      "source": [
        "ans=even_odd(45)\n",
        "print(ans)"
      ],
      "metadata": {
        "colab": {
          "base_uri": "https://localhost:8080/"
        },
        "id": "WW1MpaDjqP6g",
        "outputId": "d3af36e0-397b-42d4-b132-6136a8cadaad"
      },
      "execution_count": 26,
      "outputs": [
        {
          "output_type": "stream",
          "name": "stdout",
          "text": [
            "odd\n"
          ]
        }
      ]
    },
    {
      "cell_type": "code",
      "source": [],
      "metadata": {
        "id": "c4aXWBtmq5-h"
      },
      "execution_count": null,
      "outputs": []
    },
    {
      "cell_type": "code",
      "source": [
        "def my_function():\n",
        "  print(\"function without passing parameter\")\n",
        "my_function()"
      ],
      "metadata": {
        "colab": {
          "base_uri": "https://localhost:8080/"
        },
        "id": "bHrsiSmsrE0f",
        "outputId": "01ae443b-73b1-42d0-f67b-103dbb7839b3"
      },
      "execution_count": 30,
      "outputs": [
        {
          "output_type": "stream",
          "name": "stdout",
          "text": [
            "function without passing parameter\n"
          ]
        }
      ]
    },
    {
      "cell_type": "code",
      "source": [
        "def pass_fail(x):\n",
        "  if x>500:\n",
        "    return \"pass\"\n",
        "  else:\n",
        "    return \"fail\"\n",
        ""
      ],
      "metadata": {
        "id": "IJJdJyiUsR4o"
      },
      "execution_count": 31,
      "outputs": []
    },
    {
      "cell_type": "code",
      "source": [
        "pass_fail(458)"
      ],
      "metadata": {
        "colab": {
          "base_uri": "https://localhost:8080/",
          "height": 35
        },
        "id": "3cHSIy6Is48o",
        "outputId": "a501dea1-588b-4c73-b2e4-4b7594248487"
      },
      "execution_count": 32,
      "outputs": [
        {
          "output_type": "execute_result",
          "data": {
            "text/plain": [
              "'fail'"
            ],
            "application/vnd.google.colaboratory.intrinsic+json": {
              "type": "string"
            }
          },
          "metadata": {},
          "execution_count": 32
        }
      ]
    },
    {
      "cell_type": "code",
      "source": [
        "pass_fail(800)\n"
      ],
      "metadata": {
        "colab": {
          "base_uri": "https://localhost:8080/",
          "height": 35
        },
        "id": "Ytob3qX7tCRG",
        "outputId": "9106e7ad-386f-4490-9764-cc5da4f7f2f5"
      },
      "execution_count": 35,
      "outputs": [
        {
          "output_type": "execute_result",
          "data": {
            "text/plain": [
              "'pass'"
            ],
            "application/vnd.google.colaboratory.intrinsic+json": {
              "type": "string"
            }
          },
          "metadata": {},
          "execution_count": 35
        }
      ]
    },
    {
      "cell_type": "code",
      "source": [
        "def my_function(us):\n",
        "  print(us + \"   links   \")\n",
        "\n",
        "my_function(\"amir\")\n",
        "my_function(\"arjun\")\n",
        "my_function(\"babar\")"
      ],
      "metadata": {
        "colab": {
          "base_uri": "https://localhost:8080/"
        },
        "id": "O_WPSkpYtZQ4",
        "outputId": "061d297b-1abc-425a-8896-46ff619bb042"
      },
      "execution_count": 40,
      "outputs": [
        {
          "output_type": "stream",
          "name": "stdout",
          "text": [
            "amir   links   \n",
            "arjun   links   \n",
            "babar   links   \n"
          ]
        }
      ]
    },
    {
      "cell_type": "code",
      "source": [
        "# passing two parameters\n",
        "def my_function(x , y):\n",
        "  print(x + \"  \"+ y)\n",
        "\n",
        "my_function(\"computer in\", \" analytics \")\n"
      ],
      "metadata": {
        "colab": {
          "base_uri": "https://localhost:8080/"
        },
        "id": "YZlDrSuiuCw4",
        "outputId": "f56b1e31-153d-4e6e-b4a2-cb1b21539269"
      },
      "execution_count": 44,
      "outputs": [
        {
          "output_type": "stream",
          "name": "stdout",
          "text": [
            "computer in   analytics \n"
          ]
        }
      ]
    }
  ]
}